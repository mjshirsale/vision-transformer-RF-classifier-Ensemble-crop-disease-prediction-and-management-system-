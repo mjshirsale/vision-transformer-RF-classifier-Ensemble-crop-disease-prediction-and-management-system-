{
 "cells": [
  {
   "cell_type": "code",
   "execution_count": 6,
   "id": "d6ee3e95-c709-48d6-9232-962a9ffe006d",
   "metadata": {},
   "outputs": [
    {
     "name": "stdout",
     "output_type": "stream",
     "text": [
      "Prevention for Hispa: Apply insecticides, promote natural enemies, and practice crop rotation.\n",
      "Symptom for Hispa: Adults feed on chlorophyll by scraping and causing white parallel streaks.\n",
      "Grubs tunnel through leaf tissues and make blisters near leaf tips.\n",
      "Whitish and membranous leaves. .\n"
     ]
    }
   ],
   "source": [
    "import mysql.connector\n",
    "\n",
    "# Connect to the MySQL database in XAMPP\n",
    "def get_prevention_and_symptom(disease_name):\n",
    "    try:\n",
    "        # Establish the connection to the database\n",
    "        connection = mysql.connector.connect(\n",
    "            host='localhost',      # XAMPP default host\n",
    "            user='root',           # Default user for XAMPP\n",
    "            password='',           # Leave it empty if no password is set for root user\n",
    "            database='rice_prevention'  # Your database name\n",
    "        )\n",
    "\n",
    "        if connection.is_connected():\n",
    "            cursor = connection.cursor()\n",
    "\n",
    "            # SQL query to fetch disease prevention based on disease_name\n",
    "            prevention_query = \"SELECT disease_prevention FROM pest_control WHERE disease_name = %s\"\n",
    "            cursor.execute(prevention_query, (disease_name,))\n",
    "            \n",
    "            # Fetch the disease prevention result\n",
    "            prevention_result = cursor.fetchone()\n",
    "\n",
    "            # SQL query to fetch symptom based on disease_name\n",
    "            symptom_query = \"SELECT Symptom FROM pest_control WHERE disease_name = %s\"\n",
    "            cursor.execute(symptom_query, (disease_name,))\n",
    "            \n",
    "            # Fetch the symptom result\n",
    "            symptom_result = cursor.fetchone()\n",
    "\n",
    "            # Display the results\n",
    "            if prevention_result:\n",
    "                print(f\"Prevention for {disease_name}: {prevention_result[0]}\")\n",
    "            else:\n",
    "                print(f\"No prevention found for {disease_name}\")\n",
    "            \n",
    "            if symptom_result:\n",
    "                print(f\"Symptom for {disease_name}: {symptom_result[0]}\")\n",
    "            else:\n",
    "                print(f\"No symptom found for {disease_name}\")\n",
    "\n",
    "    except mysql.connector.Error as e:\n",
    "        print(f\"Error connecting to MySQL: {e}\")\n",
    "\n",
    "    finally:\n",
    "        # Close the database connection\n",
    "        if connection.is_connected():\n",
    "            cursor.close()\n",
    "            connection.close()\n",
    "\n",
    "# Take user input for disease name\n",
    "disease_name_input = \"Hispa\"  # You can change this to user input or any other disease\n",
    "get_prevention_and_symptom(disease_name_input)\n"
   ]
  }
 ],
 "metadata": {
  "kernelspec": {
   "display_name": "cuda_gpu",
   "language": "python",
   "name": "cuda"
  },
  "language_info": {
   "codemirror_mode": {
    "name": "ipython",
    "version": 3
   },
   "file_extension": ".py",
   "mimetype": "text/x-python",
   "name": "python",
   "nbconvert_exporter": "python",
   "pygments_lexer": "ipython3",
   "version": "3.12.4"
  }
 },
 "nbformat": 4,
 "nbformat_minor": 5
}
